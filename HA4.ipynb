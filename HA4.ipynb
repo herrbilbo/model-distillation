{
  "nbformat": 4,
  "nbformat_minor": 0,
  "metadata": {
    "colab": {
      "name": "HA4.ipynb",
      "provenance": [],
      "collapsed_sections": []
    },
    "kernelspec": {
      "name": "python3",
      "display_name": "Python 3"
    },
    "accelerator": "GPU"
  },
  "cells": [
    {
      "cell_type": "code",
      "metadata": {
        "id": "tpA_Kgyn9EO2",
        "colab_type": "code",
        "colab": {}
      },
      "source": [
        "import cv2\n",
        "import matplotlib.pylab as plt\n",
        "import numpy as np\n",
        "import random\n",
        "import math\n",
        "import pandas as pd\n",
        "import glob\n",
        "\n",
        "import torchvision\n",
        "import torchvision.transforms as transforms\n",
        "\n",
        "%matplotlib inline\n",
        "plt.style.use('default')\n",
        "\n",
        "import warnings\n",
        "warnings.filterwarnings('ignore')\n",
        "\n",
        "from torch.utils.data import Dataset\n",
        "from torchvision import datasets, transforms\n",
        "from torch.utils.data import DataLoader\n",
        "import torch\n",
        "from tqdm import tqdm\n",
        "from torch import nn\n",
        "import torch.nn.functional as F\n",
        "\n",
        "from sklearn.metrics import accuracy_score\n",
        "from sklearn.model_selection import train_test_split\n",
        "\n",
        "import plotly.graph_objects as go\n",
        "from plotly.subplots import make_subplots\n",
        "\n",
        "import plotly.offline"
      ],
      "execution_count": 0,
      "outputs": []
    },
    {
      "cell_type": "markdown",
      "metadata": {
        "id": "mE1_5zLVkEBe",
        "colab_type": "text"
      },
      "source": [
        "https://habr.com/ru/company/avito/blog/485290/"
      ]
    },
    {
      "cell_type": "code",
      "metadata": {
        "id": "Htsb0WhBML74",
        "colab_type": "code",
        "colab": {
          "base_uri": "https://localhost:8080/",
          "height": 51
        },
        "outputId": "5b91029d-5a18-4ed6-a103-793e6bd902a2"
      },
      "source": [
        "seed = 228\n",
        "np.random.seed(seed)\n",
        "torch.manual_seed(seed)\n",
        "random.seed(seed)\n",
        "\n",
        "transform = transforms.Compose(\n",
        "    [transforms.ToTensor(),\n",
        "     transforms.Normalize([0.485, 0.456, 0.406], [0.229, 0.224, 0.225])])\n",
        "\n",
        "train_set = torchvision.datasets.CIFAR10(root='./data', train=True,\n",
        "                                        download=True, transform=transform)\n",
        "train_loader = torch.utils.data.DataLoader(train_set, batch_size=2048,\n",
        "                                          shuffle=True, num_workers=2)\n",
        "\n",
        "test_set = torchvision.datasets.CIFAR10(root='./data', train=False,\n",
        "                                       download=True, transform=transform)\n",
        "test_loader = torch.utils.data.DataLoader(test_set, batch_size=2048,\n",
        "                                         shuffle=False, num_workers=2)\n",
        "\n",
        "device = torch.device(\"cuda\" if torch.cuda.is_available() else \"cpu\")"
      ],
      "execution_count": 2,
      "outputs": [
        {
          "output_type": "stream",
          "text": [
            "Files already downloaded and verified\n",
            "Files already downloaded and verified\n"
          ],
          "name": "stdout"
        }
      ]
    },
    {
      "cell_type": "code",
      "metadata": {
        "id": "z7QzyuD298Z8",
        "colab_type": "code",
        "colab": {}
      },
      "source": [
        "def train_smart(model, num_epochs=10):\n",
        "\n",
        "    # params_to_update = []\n",
        "    # for name, param in model.named_parameters():\n",
        "    #     if param.requires_grad == True:\n",
        "    #         params_to_update.append(param)\n",
        "    #         print(\"\\t\",name)\n",
        "\n",
        "    criterion = nn.CrossEntropyLoss()\n",
        "    optimizer = torch.optim.Adam(model.parameters(), lr=1e-4)\n",
        "    #optimizer = torch.optim.Adam(params_to_update, lr=1e-4)\n",
        "\n",
        "    for epoch in range(num_epochs):\n",
        "        elements = 0\n",
        "        mean_loss = 0.0\n",
        "        acc_rate = 0.0\n",
        "        for X, y in train_loader:\n",
        "            X = X.to(device)\n",
        "            y = y.to(device)\n",
        "            \n",
        "            y_pred = model(X)\n",
        "            loss = criterion(y_pred, y)\n",
        "\n",
        "            optimizer.zero_grad()\n",
        "            loss.backward()\n",
        "            optimizer.step()\n",
        "\n",
        "            mean_loss += loss.item() * len(X)\n",
        "            acc_rate += torch.sum(y == torch.max(y_pred, 1)[1])\n",
        "            elements += len(X)\n",
        "\n",
        "        total_loss = mean_loss / elements\n",
        "        total_acc = acc_rate / elements\n",
        "\n",
        "        print(f'epoch: {epoch + 1}, loss: {total_loss}, accuracy: {total_acc}')\n",
        "        torch.save(model.state_dict(), 'smart')\n",
        "\n",
        "    return model"
      ],
      "execution_count": 0,
      "outputs": []
    },
    {
      "cell_type": "code",
      "metadata": {
        "id": "JBAgIJ3_9_U_",
        "colab_type": "code",
        "colab": {
          "base_uri": "https://localhost:8080/",
          "height": 1000
        },
        "outputId": "f76f3392-7fd4-4365-bb45-9ee6991510f8"
      },
      "source": [
        "smart = torchvision.models.resnet18(pretrained=True)\n",
        "\n",
        "# def set_parameter_requires_grad(model):\n",
        "#     for param in model.parameters():\n",
        "#         param.requires_grad = False\n",
        "\n",
        "# set_parameter_requires_grad(smart)\n",
        "\n",
        "smart.fc = nn.Linear(smart.fc.in_features, 10)\n",
        "smart = smart.to(device)\n",
        "\n",
        "smart = train_smart(smart, num_epochs=10)\n",
        "\n",
        "smart.load_state_dict(torch.load(\"smart\"))\n",
        "smart.eval()"
      ],
      "execution_count": 4,
      "outputs": [
        {
          "output_type": "stream",
          "text": [
            "epoch: 1, loss: 1.7122296115493774, accuracy: 0.4088200032711029\n",
            "epoch: 2, loss: 0.9379380323410034, accuracy: 0.6752600073814392\n",
            "epoch: 3, loss: 0.6786848701477051, accuracy: 0.7664200067520142\n",
            "epoch: 4, loss: 0.5159601857566833, accuracy: 0.8252999782562256\n",
            "epoch: 5, loss: 0.3842359911441803, accuracy: 0.8771799802780151\n",
            "epoch: 6, loss: 0.2735558604717255, accuracy: 0.9199399948120117\n",
            "epoch: 7, loss: 0.18355409548282622, accuracy: 0.9545999765396118\n",
            "epoch: 8, loss: 0.1169557518863678, accuracy: 0.9775399565696716\n",
            "epoch: 9, loss: 0.0698659116601944, accuracy: 0.9892399907112122\n",
            "epoch: 10, loss: 0.042724183213710784, accuracy: 0.9953599572181702\n"
          ],
          "name": "stdout"
        },
        {
          "output_type": "execute_result",
          "data": {
            "text/plain": [
              "ResNet(\n",
              "  (conv1): Conv2d(3, 64, kernel_size=(7, 7), stride=(2, 2), padding=(3, 3), bias=False)\n",
              "  (bn1): BatchNorm2d(64, eps=1e-05, momentum=0.1, affine=True, track_running_stats=True)\n",
              "  (relu): ReLU(inplace=True)\n",
              "  (maxpool): MaxPool2d(kernel_size=3, stride=2, padding=1, dilation=1, ceil_mode=False)\n",
              "  (layer1): Sequential(\n",
              "    (0): BasicBlock(\n",
              "      (conv1): Conv2d(64, 64, kernel_size=(3, 3), stride=(1, 1), padding=(1, 1), bias=False)\n",
              "      (bn1): BatchNorm2d(64, eps=1e-05, momentum=0.1, affine=True, track_running_stats=True)\n",
              "      (relu): ReLU(inplace=True)\n",
              "      (conv2): Conv2d(64, 64, kernel_size=(3, 3), stride=(1, 1), padding=(1, 1), bias=False)\n",
              "      (bn2): BatchNorm2d(64, eps=1e-05, momentum=0.1, affine=True, track_running_stats=True)\n",
              "    )\n",
              "    (1): BasicBlock(\n",
              "      (conv1): Conv2d(64, 64, kernel_size=(3, 3), stride=(1, 1), padding=(1, 1), bias=False)\n",
              "      (bn1): BatchNorm2d(64, eps=1e-05, momentum=0.1, affine=True, track_running_stats=True)\n",
              "      (relu): ReLU(inplace=True)\n",
              "      (conv2): Conv2d(64, 64, kernel_size=(3, 3), stride=(1, 1), padding=(1, 1), bias=False)\n",
              "      (bn2): BatchNorm2d(64, eps=1e-05, momentum=0.1, affine=True, track_running_stats=True)\n",
              "    )\n",
              "  )\n",
              "  (layer2): Sequential(\n",
              "    (0): BasicBlock(\n",
              "      (conv1): Conv2d(64, 128, kernel_size=(3, 3), stride=(2, 2), padding=(1, 1), bias=False)\n",
              "      (bn1): BatchNorm2d(128, eps=1e-05, momentum=0.1, affine=True, track_running_stats=True)\n",
              "      (relu): ReLU(inplace=True)\n",
              "      (conv2): Conv2d(128, 128, kernel_size=(3, 3), stride=(1, 1), padding=(1, 1), bias=False)\n",
              "      (bn2): BatchNorm2d(128, eps=1e-05, momentum=0.1, affine=True, track_running_stats=True)\n",
              "      (downsample): Sequential(\n",
              "        (0): Conv2d(64, 128, kernel_size=(1, 1), stride=(2, 2), bias=False)\n",
              "        (1): BatchNorm2d(128, eps=1e-05, momentum=0.1, affine=True, track_running_stats=True)\n",
              "      )\n",
              "    )\n",
              "    (1): BasicBlock(\n",
              "      (conv1): Conv2d(128, 128, kernel_size=(3, 3), stride=(1, 1), padding=(1, 1), bias=False)\n",
              "      (bn1): BatchNorm2d(128, eps=1e-05, momentum=0.1, affine=True, track_running_stats=True)\n",
              "      (relu): ReLU(inplace=True)\n",
              "      (conv2): Conv2d(128, 128, kernel_size=(3, 3), stride=(1, 1), padding=(1, 1), bias=False)\n",
              "      (bn2): BatchNorm2d(128, eps=1e-05, momentum=0.1, affine=True, track_running_stats=True)\n",
              "    )\n",
              "  )\n",
              "  (layer3): Sequential(\n",
              "    (0): BasicBlock(\n",
              "      (conv1): Conv2d(128, 256, kernel_size=(3, 3), stride=(2, 2), padding=(1, 1), bias=False)\n",
              "      (bn1): BatchNorm2d(256, eps=1e-05, momentum=0.1, affine=True, track_running_stats=True)\n",
              "      (relu): ReLU(inplace=True)\n",
              "      (conv2): Conv2d(256, 256, kernel_size=(3, 3), stride=(1, 1), padding=(1, 1), bias=False)\n",
              "      (bn2): BatchNorm2d(256, eps=1e-05, momentum=0.1, affine=True, track_running_stats=True)\n",
              "      (downsample): Sequential(\n",
              "        (0): Conv2d(128, 256, kernel_size=(1, 1), stride=(2, 2), bias=False)\n",
              "        (1): BatchNorm2d(256, eps=1e-05, momentum=0.1, affine=True, track_running_stats=True)\n",
              "      )\n",
              "    )\n",
              "    (1): BasicBlock(\n",
              "      (conv1): Conv2d(256, 256, kernel_size=(3, 3), stride=(1, 1), padding=(1, 1), bias=False)\n",
              "      (bn1): BatchNorm2d(256, eps=1e-05, momentum=0.1, affine=True, track_running_stats=True)\n",
              "      (relu): ReLU(inplace=True)\n",
              "      (conv2): Conv2d(256, 256, kernel_size=(3, 3), stride=(1, 1), padding=(1, 1), bias=False)\n",
              "      (bn2): BatchNorm2d(256, eps=1e-05, momentum=0.1, affine=True, track_running_stats=True)\n",
              "    )\n",
              "  )\n",
              "  (layer4): Sequential(\n",
              "    (0): BasicBlock(\n",
              "      (conv1): Conv2d(256, 512, kernel_size=(3, 3), stride=(2, 2), padding=(1, 1), bias=False)\n",
              "      (bn1): BatchNorm2d(512, eps=1e-05, momentum=0.1, affine=True, track_running_stats=True)\n",
              "      (relu): ReLU(inplace=True)\n",
              "      (conv2): Conv2d(512, 512, kernel_size=(3, 3), stride=(1, 1), padding=(1, 1), bias=False)\n",
              "      (bn2): BatchNorm2d(512, eps=1e-05, momentum=0.1, affine=True, track_running_stats=True)\n",
              "      (downsample): Sequential(\n",
              "        (0): Conv2d(256, 512, kernel_size=(1, 1), stride=(2, 2), bias=False)\n",
              "        (1): BatchNorm2d(512, eps=1e-05, momentum=0.1, affine=True, track_running_stats=True)\n",
              "      )\n",
              "    )\n",
              "    (1): BasicBlock(\n",
              "      (conv1): Conv2d(512, 512, kernel_size=(3, 3), stride=(1, 1), padding=(1, 1), bias=False)\n",
              "      (bn1): BatchNorm2d(512, eps=1e-05, momentum=0.1, affine=True, track_running_stats=True)\n",
              "      (relu): ReLU(inplace=True)\n",
              "      (conv2): Conv2d(512, 512, kernel_size=(3, 3), stride=(1, 1), padding=(1, 1), bias=False)\n",
              "      (bn2): BatchNorm2d(512, eps=1e-05, momentum=0.1, affine=True, track_running_stats=True)\n",
              "    )\n",
              "  )\n",
              "  (avgpool): AdaptiveAvgPool2d(output_size=(1, 1))\n",
              "  (fc): Linear(in_features=512, out_features=10, bias=True)\n",
              ")"
            ]
          },
          "metadata": {
            "tags": []
          },
          "execution_count": 4
        }
      ]
    },
    {
      "cell_type": "code",
      "metadata": {
        "id": "cv7nP6x0-EE2",
        "colab_type": "code",
        "colab": {}
      },
      "source": [
        "def test(model):\n",
        "    y_pred = np.array([])\n",
        "    y_true = np.array([])\n",
        "\n",
        "    for batch in test_loader:\n",
        "        X, y = batch\n",
        "        X = X.to(device)\n",
        "        y = y.to(device)\n",
        "\n",
        "        output = model(X)\n",
        "        \n",
        "        batch_pred = torch.argmax(output, dim=1)\n",
        "        y_pred = np.append(y_pred, batch_pred.cpu().numpy())\n",
        "        y_true = np.append(y_true, y.cpu().numpy())\n",
        "\n",
        "    y_pred = y_pred.astype(int)\n",
        "\n",
        "    acc = accuracy_score(y_pred, y_true)\n",
        "\n",
        "    return acc"
      ],
      "execution_count": 0,
      "outputs": []
    },
    {
      "cell_type": "code",
      "metadata": {
        "id": "1PDNRfv--GmU",
        "colab_type": "code",
        "colab": {
          "base_uri": "https://localhost:8080/",
          "height": 34
        },
        "outputId": "d64839b5-c432-40fb-95a6-de0acb1a2e23"
      },
      "source": [
        "res_smart = test(smart)\n",
        "\n",
        "print(res_smart)"
      ],
      "execution_count": 6,
      "outputs": [
        {
          "output_type": "stream",
          "text": [
            "0.7579\n"
          ],
          "name": "stdout"
        }
      ]
    },
    {
      "cell_type": "code",
      "metadata": {
        "id": "MkhswJnv-H7-",
        "colab_type": "code",
        "colab": {}
      },
      "source": [
        "# https://pytorch.org/tutorials/beginner/blitz/cifar10_tutorial.html\n",
        "\n",
        "class primitive(nn.Module):\n",
        "    def __init__(self):\n",
        "        super(primitive, self).__init__()\n",
        "        self.conv1 = nn.Conv2d(3, 6, 5)\n",
        "        self.pool = nn.MaxPool2d(2, 2)\n",
        "        self.conv2 = nn.Conv2d(6, 16, 5)\n",
        "        self.fc1 = nn.Linear(16 * 5 * 5, 120)\n",
        "        self.fc2 = nn.Linear(120, 84)\n",
        "        self.fc3 = nn.Linear(84, 10)\n",
        "\n",
        "    def forward(self, x):\n",
        "        x = self.pool(F.relu(self.conv1(x)))\n",
        "        x = self.pool(F.relu(self.conv2(x)))\n",
        "        x = x.view(-1, 16 * 5 * 5)\n",
        "        x = F.relu(self.fc1(x))\n",
        "        x = F.relu(self.fc2(x))\n",
        "        x = self.fc3(x)\n",
        "        return x\n"
      ],
      "execution_count": 0,
      "outputs": []
    },
    {
      "cell_type": "code",
      "metadata": {
        "id": "P1g30axb-JLW",
        "colab_type": "code",
        "colab": {}
      },
      "source": [
        "def train_primitive(model, num_epochs=10):\n",
        "\n",
        "    criterion = nn.CrossEntropyLoss()\n",
        "    optimizer = torch.optim.Adam(model.parameters(), lr=1e-3)\n",
        "\n",
        "    for epoch in range(num_epochs):\n",
        "        elements = 0\n",
        "        mean_loss = 0.0\n",
        "        acc_rate = 0.0\n",
        "        for X, y in train_loader:\n",
        "            X = X.to(device)\n",
        "            y = y.to(device)\n",
        "            \n",
        "            y_pred = model(X)\n",
        "            loss = criterion(y_pred, y)\n",
        "            \n",
        "            optimizer.zero_grad()\n",
        "            loss.backward()\n",
        "            optimizer.step()\n",
        "\n",
        "            mean_loss += loss.item() * len(X)\n",
        "            acc_rate += torch.sum(y == torch.max(y_pred, 1)[1])\n",
        "            elements += len(X)\n",
        "\n",
        "        total_loss = mean_loss / elements\n",
        "        total_acc = acc_rate / elements\n",
        "\n",
        "        print(f'epoch: {epoch + 1}, loss: {total_loss}, accuracy: {total_acc}')\n",
        "\n",
        "    return model"
      ],
      "execution_count": 0,
      "outputs": []
    },
    {
      "cell_type": "code",
      "metadata": {
        "id": "v86zCMfD-Lfm",
        "colab_type": "code",
        "colab": {
          "base_uri": "https://localhost:8080/",
          "height": 408
        },
        "outputId": "75b49078-25b2-4273-ef36-bd19656b3275"
      },
      "source": [
        "conv_nn = primitive()\n",
        "conv_nn.to(device)\n",
        "conv_nn = train_primitive(conv_nn, 15)\n",
        "\n",
        "conv_nn.eval()"
      ],
      "execution_count": 9,
      "outputs": [
        {
          "output_type": "stream",
          "text": [
            "epoch: 1, loss: 2.133589452896118, accuracy: 0.216279998421669\n",
            "epoch: 2, loss: 1.8475012383651734, accuracy: 0.3265799880027771\n",
            "epoch: 3, loss: 1.6950228954696656, accuracy: 0.38492000102996826\n",
            "epoch: 4, loss: 1.6065207349395751, accuracy: 0.4137199819087982\n",
            "epoch: 5, loss: 1.5523322343063355, accuracy: 0.4337199926376343\n",
            "epoch: 6, loss: 1.5062968605422973, accuracy: 0.4536399841308594\n",
            "epoch: 7, loss: 1.4660519107818604, accuracy: 0.46949997544288635\n",
            "epoch: 8, loss: 1.4347771736145019, accuracy: 0.48085999488830566\n",
            "epoch: 9, loss: 1.4084605392837524, accuracy: 0.49069997668266296\n",
            "epoch: 10, loss: 1.3788303916168212, accuracy: 0.5029799938201904\n",
            "epoch: 11, loss: 1.3600088082885742, accuracy: 0.5089399814605713\n",
            "epoch: 12, loss: 1.3338526570510865, accuracy: 0.5203199982643127\n",
            "epoch: 13, loss: 1.320792894592285, accuracy: 0.5257599949836731\n",
            "epoch: 14, loss: 1.2988951033782958, accuracy: 0.5342000126838684\n",
            "epoch: 15, loss: 1.283263264427185, accuracy: 0.5397999882698059\n"
          ],
          "name": "stdout"
        },
        {
          "output_type": "execute_result",
          "data": {
            "text/plain": [
              "primitive(\n",
              "  (conv1): Conv2d(3, 6, kernel_size=(5, 5), stride=(1, 1))\n",
              "  (pool): MaxPool2d(kernel_size=2, stride=2, padding=0, dilation=1, ceil_mode=False)\n",
              "  (conv2): Conv2d(6, 16, kernel_size=(5, 5), stride=(1, 1))\n",
              "  (fc1): Linear(in_features=400, out_features=120, bias=True)\n",
              "  (fc2): Linear(in_features=120, out_features=84, bias=True)\n",
              "  (fc3): Linear(in_features=84, out_features=10, bias=True)\n",
              ")"
            ]
          },
          "metadata": {
            "tags": []
          },
          "execution_count": 9
        }
      ]
    },
    {
      "cell_type": "code",
      "metadata": {
        "id": "Tc2Zr6tt-NQu",
        "colab_type": "code",
        "colab": {
          "base_uri": "https://localhost:8080/",
          "height": 34
        },
        "outputId": "5f1cff01-ed2f-472b-8a9d-248edb2c0944"
      },
      "source": [
        "res_primitive = test(conv_nn)\n",
        "\n",
        "print(res_primitive)"
      ],
      "execution_count": 10,
      "outputs": [
        {
          "output_type": "stream",
          "text": [
            "0.5243\n"
          ],
          "name": "stdout"
        }
      ]
    },
    {
      "cell_type": "code",
      "metadata": {
        "id": "mWbVIoSWGqgz",
        "colab_type": "code",
        "colab": {}
      },
      "source": [
        "def train_primitive_with_smart(model, smart, a=0.5, num_epochs=10):\n",
        "\n",
        "    ce = nn.CrossEntropyLoss()\n",
        "    optimizer = torch.optim.Adam(model.parameters(), lr=1e-2)\n",
        "    mse = torch.nn.MSELoss()\n",
        "\n",
        "    for epoch in range(num_epochs):\n",
        "        elements = 0\n",
        "        mean_loss = 0.0\n",
        "        acc_rate = 0.0\n",
        "        for X, y in train_loader:\n",
        "            X = X.to(device)\n",
        "            y = y.to(device)\n",
        "\n",
        "            \n",
        "            y_pred = model(X)\n",
        "            smart_y_pred = smart(X)\n",
        "            loss = a * ce(y_pred, y) + (1 - a) * mse(F.softmax(y_pred, dim=-1), F.softmax(smart_y_pred, dim=-1))\n",
        "            #loss = a * ce(y_pred, y) + (1 - a) * mse(y_pred, smart_y_pred)\n",
        "            \n",
        "            optimizer.zero_grad()\n",
        "            loss.backward()\n",
        "            optimizer.step()\n",
        "\n",
        "            mean_loss += loss.item() * len(X)\n",
        "            acc_rate += torch.sum(y == torch.max(y_pred, 1)[1])\n",
        "            elements += len(X)\n",
        "\n",
        "        total_loss = mean_loss / elements\n",
        "        total_acc = acc_rate / elements\n",
        "\n",
        "        print(f'epoch: {epoch + 1}, loss: {total_loss}, accuracy: {total_acc}')\n",
        "\n",
        "    return model"
      ],
      "execution_count": 0,
      "outputs": []
    },
    {
      "cell_type": "code",
      "metadata": {
        "id": "H3sILA33-QY-",
        "colab_type": "code",
        "colab": {
          "base_uri": "https://localhost:8080/",
          "height": 408
        },
        "outputId": "87de7fa9-406e-4992-fe33-8eb3e125ea06"
      },
      "source": [
        "conv_nn = primitive()\n",
        "conv_nn.to(device)\n",
        "conv_nn = train_primitive_with_smart(conv_nn, smart, 0.2, 15)\n",
        "\n",
        "conv_nn.eval()"
      ],
      "execution_count": 12,
      "outputs": [
        {
          "output_type": "stream",
          "text": [
            "epoch: 1, loss: 0.4655162782382965, accuracy: 0.24966000020503998\n",
            "epoch: 2, loss: 0.3780401555633545, accuracy: 0.4050399959087372\n",
            "epoch: 3, loss: 0.3405739925670624, accuracy: 0.4686799943447113\n",
            "epoch: 4, loss: 0.3182104660606384, accuracy: 0.5098599791526794\n",
            "epoch: 5, loss: 0.30014724445343016, accuracy: 0.540120005607605\n",
            "epoch: 6, loss: 0.28692616218566896, accuracy: 0.5619400143623352\n",
            "epoch: 7, loss: 0.27688231113433837, accuracy: 0.5802599787712097\n",
            "epoch: 8, loss: 0.2653952394771576, accuracy: 0.5974799990653992\n",
            "epoch: 9, loss: 0.25659732421875, accuracy: 0.6127600073814392\n",
            "epoch: 10, loss: 0.25022766593933105, accuracy: 0.6218799948692322\n",
            "epoch: 11, loss: 0.24178652387619018, accuracy: 0.6378799676895142\n",
            "epoch: 12, loss: 0.2372308439016342, accuracy: 0.6427199840545654\n",
            "epoch: 13, loss: 0.23289795170783997, accuracy: 0.6508600115776062\n",
            "epoch: 14, loss: 0.22570449667453765, accuracy: 0.6628999710083008\n",
            "epoch: 15, loss: 0.22238100285053253, accuracy: 0.6659799814224243\n"
          ],
          "name": "stdout"
        },
        {
          "output_type": "execute_result",
          "data": {
            "text/plain": [
              "primitive(\n",
              "  (conv1): Conv2d(3, 6, kernel_size=(5, 5), stride=(1, 1))\n",
              "  (pool): MaxPool2d(kernel_size=2, stride=2, padding=0, dilation=1, ceil_mode=False)\n",
              "  (conv2): Conv2d(6, 16, kernel_size=(5, 5), stride=(1, 1))\n",
              "  (fc1): Linear(in_features=400, out_features=120, bias=True)\n",
              "  (fc2): Linear(in_features=120, out_features=84, bias=True)\n",
              "  (fc3): Linear(in_features=84, out_features=10, bias=True)\n",
              ")"
            ]
          },
          "metadata": {
            "tags": []
          },
          "execution_count": 12
        }
      ]
    },
    {
      "cell_type": "code",
      "metadata": {
        "id": "jWFSytwT-R8u",
        "colab_type": "code",
        "colab": {
          "base_uri": "https://localhost:8080/",
          "height": 34
        },
        "outputId": "36956c35-ade9-402d-d9e8-04323fcddc84"
      },
      "source": [
        "res_primitive_with_smart = test(conv_nn)\n",
        "\n",
        "print(res_primitive_with_smart)"
      ],
      "execution_count": 13,
      "outputs": [
        {
          "output_type": "stream",
          "text": [
            "0.5916\n"
          ],
          "name": "stdout"
        }
      ]
    },
    {
      "cell_type": "code",
      "metadata": {
        "id": "a6mPUruy-UrO",
        "colab_type": "code",
        "colab": {
          "base_uri": "https://localhost:8080/",
          "height": 68
        },
        "outputId": "ac2e9c90-8f6e-48c2-b6d6-1c935eed6b5b"
      },
      "source": [
        "print(f\"smart accuracy: {res_smart}\")\n",
        "print(f\"primitive accruracy: {res_primitive}\")\n",
        "print(f\"primitive with smart accuracy: {res_primitive_with_smart}\")"
      ],
      "execution_count": 14,
      "outputs": [
        {
          "output_type": "stream",
          "text": [
            "smart accuracy: 0.7579\n",
            "primitive accruracy: 0.5243\n",
            "primitive with smart accuracy: 0.5916\n"
          ],
          "name": "stdout"
        }
      ]
    },
    {
      "cell_type": "markdown",
      "metadata": {
        "id": "57ulheWKlNpP",
        "colab_type": "text"
      },
      "source": [
        "Итого: resnet помог нашей слабой архитектуре повысить своё качество на почти 0.07 accuracy, сохранив то же самое количество эпох при обучении."
      ]
    }
  ]
}