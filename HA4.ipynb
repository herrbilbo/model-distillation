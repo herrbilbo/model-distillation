{
  "nbformat": 4,
  "nbformat_minor": 0,
  "metadata": {
    "colab": {
      "name": "HA4.ipynb",
      "provenance": [],
      "collapsed_sections": []
    },
    "kernelspec": {
      "name": "python3",
      "display_name": "Python 3"
    },
    "accelerator": "GPU"
  },
  "cells": [
    {
      "cell_type": "code",
      "metadata": {
        "id": "tpA_Kgyn9EO2",
        "colab_type": "code",
        "colab": {}
      },
      "source": [
        "import cv2\n",
        "import matplotlib.pylab as plt\n",
        "import numpy as np\n",
        "import random\n",
        "import math\n",
        "import pandas as pd\n",
        "import glob\n",
        "\n",
        "import torchvision\n",
        "import torchvision.transforms as transforms\n",
        "\n",
        "%matplotlib inline\n",
        "plt.style.use('default')\n",
        "\n",
        "import warnings\n",
        "warnings.filterwarnings('ignore')\n",
        "\n",
        "from torch.utils.data import Dataset\n",
        "from torchvision import datasets, transforms\n",
        "from torch.utils.data import DataLoader\n",
        "import torch\n",
        "from tqdm import tqdm\n",
        "from torch import nn\n",
        "import torch.nn.functional as F\n",
        "\n",
        "from sklearn.metrics import accuracy_score\n",
        "from sklearn.model_selection import train_test_split\n",
        "\n",
        "import plotly.graph_objects as go\n",
        "from plotly.subplots import make_subplots\n",
        "\n",
        "import plotly.offline"
      ],
      "execution_count": 0,
      "outputs": []
    },
    {
      "cell_type": "markdown",
      "metadata": {
        "id": "mE1_5zLVkEBe",
        "colab_type": "text"
      },
      "source": [
        "https://habr.com/ru/company/avito/blog/485290/"
      ]
    },
    {
      "cell_type": "code",
      "metadata": {
        "id": "Htsb0WhBML74",
        "colab_type": "code",
        "outputId": "d544e760-3b79-4c0c-c654-92c5a173adcf",
        "colab": {
          "base_uri": "https://localhost:8080/",
          "height": 51
        }
      },
      "source": [
        "seed = 228\n",
        "np.random.seed(seed)\n",
        "torch.manual_seed(seed)\n",
        "random.seed(seed)\n",
        "\n",
        "transform = transforms.Compose(\n",
        "    [transforms.ToTensor(),\n",
        "     transforms.Normalize([0.485, 0.456, 0.406], [0.229, 0.224, 0.225])])\n",
        "\n",
        "train_set = torchvision.datasets.CIFAR10(root='./data', train=True,\n",
        "                                        download=True, transform=transform)\n",
        "train_loader = torch.utils.data.DataLoader(train_set, batch_size=2048,\n",
        "                                          shuffle=True, num_workers=2)\n",
        "\n",
        "test_set = torchvision.datasets.CIFAR10(root='./data', train=False,\n",
        "                                       download=True, transform=transform)\n",
        "test_loader = torch.utils.data.DataLoader(test_set, batch_size=2048,\n",
        "                                         shuffle=False, num_workers=2)\n",
        "\n",
        "device = torch.device(\"cuda\" if torch.cuda.is_available() else \"cpu\")"
      ],
      "execution_count": 2,
      "outputs": [
        {
          "output_type": "stream",
          "text": [
            "Files already downloaded and verified\n",
            "Files already downloaded and verified\n"
          ],
          "name": "stdout"
        }
      ]
    },
    {
      "cell_type": "code",
      "metadata": {
        "id": "z7QzyuD298Z8",
        "colab_type": "code",
        "colab": {}
      },
      "source": [
        "def train_smart(model, num_epochs=10):\n",
        "\n",
        "    # params_to_update = []\n",
        "    # for name, param in model.named_parameters():\n",
        "    #     if param.requires_grad == True:\n",
        "    #         params_to_update.append(param)\n",
        "    #         print(\"\\t\",name)\n",
        "\n",
        "    criterion = nn.CrossEntropyLoss()\n",
        "    optimizer = torch.optim.Adam(model.parameters(), lr=1e-4)\n",
        "    #optimizer = torch.optim.Adam(params_to_update, lr=1e-4)\n",
        "\n",
        "    for epoch in range(num_epochs):\n",
        "        elements = 0\n",
        "        mean_loss = 0.0\n",
        "        acc_rate = 0.0\n",
        "        for X, y in train_loader:\n",
        "            X = X.to(device)\n",
        "            y = y.to(device)\n",
        "            \n",
        "            y_pred = model(X)\n",
        "            loss = criterion(y_pred, y)\n",
        "\n",
        "            optimizer.zero_grad()\n",
        "            loss.backward()\n",
        "            optimizer.step()\n",
        "\n",
        "            mean_loss += loss.item() * len(X)\n",
        "            acc_rate += torch.sum(y == torch.max(y_pred, 1)[1])\n",
        "            elements += len(X)\n",
        "\n",
        "        total_loss = mean_loss / elements\n",
        "        total_acc = acc_rate / elements\n",
        "\n",
        "        print(f'epoch: {epoch + 1}, loss: {total_loss}, accuracy: {total_acc}')\n",
        "        torch.save(model.state_dict(), 'smart')\n",
        "\n",
        "    return model"
      ],
      "execution_count": 0,
      "outputs": []
    },
    {
      "cell_type": "code",
      "metadata": {
        "id": "JBAgIJ3_9_U_",
        "colab_type": "code",
        "outputId": "014f611e-2ecd-47d5-be1c-f84527b6fffe",
        "colab": {
          "base_uri": "https://localhost:8080/",
          "height": 1000
        }
      },
      "source": [
        "smart = torchvision.models.resnet18(pretrained=True)\n",
        "\n",
        "# def set_parameter_requires_grad(model):\n",
        "#     for param in model.parameters():\n",
        "#         param.requires_grad = False\n",
        "\n",
        "# set_parameter_requires_grad(smart)\n",
        "\n",
        "smart.fc = nn.Linear(smart.fc.in_features, 10)\n",
        "smart = smart.to(device)\n",
        "\n",
        "smart = train_smart(smart, num_epochs=10)\n",
        "\n",
        "smart.load_state_dict(torch.load(\"smart\"))\n",
        "smart.eval()"
      ],
      "execution_count": 4,
      "outputs": [
        {
          "output_type": "stream",
          "text": [
            "epoch: 1, loss: 1.7120868599319459, accuracy: 0.40901997685432434\n",
            "epoch: 2, loss: 0.9375466221046448, accuracy: 0.6752200126647949\n",
            "epoch: 3, loss: 0.6782752262878418, accuracy: 0.7661399841308594\n",
            "epoch: 4, loss: 0.5155905470657348, accuracy: 0.8249799609184265\n",
            "epoch: 5, loss: 0.38413483410835264, accuracy: 0.8766399621963501\n",
            "epoch: 6, loss: 0.2737151264381409, accuracy: 0.9192999601364136\n",
            "epoch: 7, loss: 0.18390860013008117, accuracy: 0.9540799856185913\n",
            "epoch: 8, loss: 0.11677001179695129, accuracy: 0.9776600003242493\n",
            "epoch: 9, loss: 0.06975768966913223, accuracy: 0.9893800020217896\n",
            "epoch: 10, loss: 0.04248692395210266, accuracy: 0.9951799511909485\n"
          ],
          "name": "stdout"
        },
        {
          "output_type": "execute_result",
          "data": {
            "text/plain": [
              "ResNet(\n",
              "  (conv1): Conv2d(3, 64, kernel_size=(7, 7), stride=(2, 2), padding=(3, 3), bias=False)\n",
              "  (bn1): BatchNorm2d(64, eps=1e-05, momentum=0.1, affine=True, track_running_stats=True)\n",
              "  (relu): ReLU(inplace=True)\n",
              "  (maxpool): MaxPool2d(kernel_size=3, stride=2, padding=1, dilation=1, ceil_mode=False)\n",
              "  (layer1): Sequential(\n",
              "    (0): BasicBlock(\n",
              "      (conv1): Conv2d(64, 64, kernel_size=(3, 3), stride=(1, 1), padding=(1, 1), bias=False)\n",
              "      (bn1): BatchNorm2d(64, eps=1e-05, momentum=0.1, affine=True, track_running_stats=True)\n",
              "      (relu): ReLU(inplace=True)\n",
              "      (conv2): Conv2d(64, 64, kernel_size=(3, 3), stride=(1, 1), padding=(1, 1), bias=False)\n",
              "      (bn2): BatchNorm2d(64, eps=1e-05, momentum=0.1, affine=True, track_running_stats=True)\n",
              "    )\n",
              "    (1): BasicBlock(\n",
              "      (conv1): Conv2d(64, 64, kernel_size=(3, 3), stride=(1, 1), padding=(1, 1), bias=False)\n",
              "      (bn1): BatchNorm2d(64, eps=1e-05, momentum=0.1, affine=True, track_running_stats=True)\n",
              "      (relu): ReLU(inplace=True)\n",
              "      (conv2): Conv2d(64, 64, kernel_size=(3, 3), stride=(1, 1), padding=(1, 1), bias=False)\n",
              "      (bn2): BatchNorm2d(64, eps=1e-05, momentum=0.1, affine=True, track_running_stats=True)\n",
              "    )\n",
              "  )\n",
              "  (layer2): Sequential(\n",
              "    (0): BasicBlock(\n",
              "      (conv1): Conv2d(64, 128, kernel_size=(3, 3), stride=(2, 2), padding=(1, 1), bias=False)\n",
              "      (bn1): BatchNorm2d(128, eps=1e-05, momentum=0.1, affine=True, track_running_stats=True)\n",
              "      (relu): ReLU(inplace=True)\n",
              "      (conv2): Conv2d(128, 128, kernel_size=(3, 3), stride=(1, 1), padding=(1, 1), bias=False)\n",
              "      (bn2): BatchNorm2d(128, eps=1e-05, momentum=0.1, affine=True, track_running_stats=True)\n",
              "      (downsample): Sequential(\n",
              "        (0): Conv2d(64, 128, kernel_size=(1, 1), stride=(2, 2), bias=False)\n",
              "        (1): BatchNorm2d(128, eps=1e-05, momentum=0.1, affine=True, track_running_stats=True)\n",
              "      )\n",
              "    )\n",
              "    (1): BasicBlock(\n",
              "      (conv1): Conv2d(128, 128, kernel_size=(3, 3), stride=(1, 1), padding=(1, 1), bias=False)\n",
              "      (bn1): BatchNorm2d(128, eps=1e-05, momentum=0.1, affine=True, track_running_stats=True)\n",
              "      (relu): ReLU(inplace=True)\n",
              "      (conv2): Conv2d(128, 128, kernel_size=(3, 3), stride=(1, 1), padding=(1, 1), bias=False)\n",
              "      (bn2): BatchNorm2d(128, eps=1e-05, momentum=0.1, affine=True, track_running_stats=True)\n",
              "    )\n",
              "  )\n",
              "  (layer3): Sequential(\n",
              "    (0): BasicBlock(\n",
              "      (conv1): Conv2d(128, 256, kernel_size=(3, 3), stride=(2, 2), padding=(1, 1), bias=False)\n",
              "      (bn1): BatchNorm2d(256, eps=1e-05, momentum=0.1, affine=True, track_running_stats=True)\n",
              "      (relu): ReLU(inplace=True)\n",
              "      (conv2): Conv2d(256, 256, kernel_size=(3, 3), stride=(1, 1), padding=(1, 1), bias=False)\n",
              "      (bn2): BatchNorm2d(256, eps=1e-05, momentum=0.1, affine=True, track_running_stats=True)\n",
              "      (downsample): Sequential(\n",
              "        (0): Conv2d(128, 256, kernel_size=(1, 1), stride=(2, 2), bias=False)\n",
              "        (1): BatchNorm2d(256, eps=1e-05, momentum=0.1, affine=True, track_running_stats=True)\n",
              "      )\n",
              "    )\n",
              "    (1): BasicBlock(\n",
              "      (conv1): Conv2d(256, 256, kernel_size=(3, 3), stride=(1, 1), padding=(1, 1), bias=False)\n",
              "      (bn1): BatchNorm2d(256, eps=1e-05, momentum=0.1, affine=True, track_running_stats=True)\n",
              "      (relu): ReLU(inplace=True)\n",
              "      (conv2): Conv2d(256, 256, kernel_size=(3, 3), stride=(1, 1), padding=(1, 1), bias=False)\n",
              "      (bn2): BatchNorm2d(256, eps=1e-05, momentum=0.1, affine=True, track_running_stats=True)\n",
              "    )\n",
              "  )\n",
              "  (layer4): Sequential(\n",
              "    (0): BasicBlock(\n",
              "      (conv1): Conv2d(256, 512, kernel_size=(3, 3), stride=(2, 2), padding=(1, 1), bias=False)\n",
              "      (bn1): BatchNorm2d(512, eps=1e-05, momentum=0.1, affine=True, track_running_stats=True)\n",
              "      (relu): ReLU(inplace=True)\n",
              "      (conv2): Conv2d(512, 512, kernel_size=(3, 3), stride=(1, 1), padding=(1, 1), bias=False)\n",
              "      (bn2): BatchNorm2d(512, eps=1e-05, momentum=0.1, affine=True, track_running_stats=True)\n",
              "      (downsample): Sequential(\n",
              "        (0): Conv2d(256, 512, kernel_size=(1, 1), stride=(2, 2), bias=False)\n",
              "        (1): BatchNorm2d(512, eps=1e-05, momentum=0.1, affine=True, track_running_stats=True)\n",
              "      )\n",
              "    )\n",
              "    (1): BasicBlock(\n",
              "      (conv1): Conv2d(512, 512, kernel_size=(3, 3), stride=(1, 1), padding=(1, 1), bias=False)\n",
              "      (bn1): BatchNorm2d(512, eps=1e-05, momentum=0.1, affine=True, track_running_stats=True)\n",
              "      (relu): ReLU(inplace=True)\n",
              "      (conv2): Conv2d(512, 512, kernel_size=(3, 3), stride=(1, 1), padding=(1, 1), bias=False)\n",
              "      (bn2): BatchNorm2d(512, eps=1e-05, momentum=0.1, affine=True, track_running_stats=True)\n",
              "    )\n",
              "  )\n",
              "  (avgpool): AdaptiveAvgPool2d(output_size=(1, 1))\n",
              "  (fc): Linear(in_features=512, out_features=10, bias=True)\n",
              ")"
            ]
          },
          "metadata": {
            "tags": []
          },
          "execution_count": 4
        }
      ]
    },
    {
      "cell_type": "code",
      "metadata": {
        "id": "cv7nP6x0-EE2",
        "colab_type": "code",
        "colab": {}
      },
      "source": [
        "def test(model):\n",
        "    y_pred = np.array([])\n",
        "    y_true = np.array([])\n",
        "\n",
        "    for batch in test_loader:\n",
        "        X, y = batch\n",
        "        X = X.to(device)\n",
        "        y = y.to(device)\n",
        "\n",
        "        output = model(X)\n",
        "        \n",
        "        batch_pred = torch.argmax(output, dim=1)\n",
        "        y_pred = np.append(y_pred, batch_pred.cpu().numpy())\n",
        "        y_true = np.append(y_true, y.cpu().numpy())\n",
        "\n",
        "    y_pred = y_pred.astype(int)\n",
        "\n",
        "    acc = accuracy_score(y_pred, y_true)\n",
        "\n",
        "    return acc"
      ],
      "execution_count": 0,
      "outputs": []
    },
    {
      "cell_type": "code",
      "metadata": {
        "id": "1PDNRfv--GmU",
        "colab_type": "code",
        "outputId": "3e76f98a-9f1c-43d6-995f-8b42381c0e01",
        "colab": {
          "base_uri": "https://localhost:8080/",
          "height": 34
        }
      },
      "source": [
        "res_smart = test(smart)\n",
        "\n",
        "print(res_smart)"
      ],
      "execution_count": 6,
      "outputs": [
        {
          "output_type": "stream",
          "text": [
            "0.7598\n"
          ],
          "name": "stdout"
        }
      ]
    },
    {
      "cell_type": "code",
      "metadata": {
        "id": "MkhswJnv-H7-",
        "colab_type": "code",
        "colab": {}
      },
      "source": [
        "# https://pytorch.org/tutorials/beginner/blitz/cifar10_tutorial.html\n",
        "\n",
        "class primitive(nn.Module):\n",
        "    def __init__(self):\n",
        "        super(primitive, self).__init__()\n",
        "        self.conv1 = nn.Conv2d(3, 6, 5)\n",
        "        self.pool = nn.MaxPool2d(2, 2)\n",
        "        self.conv2 = nn.Conv2d(6, 16, 5)\n",
        "        self.fc1 = nn.Linear(16 * 5 * 5, 120)\n",
        "        self.fc2 = nn.Linear(120, 84)\n",
        "        self.fc3 = nn.Linear(84, 10)\n",
        "\n",
        "    def forward(self, x):\n",
        "        x = self.pool(F.relu(self.conv1(x)))\n",
        "        x = self.pool(F.relu(self.conv2(x)))\n",
        "        x = x.view(-1, 16 * 5 * 5)\n",
        "        x = F.relu(self.fc1(x))\n",
        "        x = F.relu(self.fc2(x))\n",
        "        x = self.fc3(x)\n",
        "        return x\n"
      ],
      "execution_count": 0,
      "outputs": []
    },
    {
      "cell_type": "code",
      "metadata": {
        "id": "P1g30axb-JLW",
        "colab_type": "code",
        "colab": {}
      },
      "source": [
        "def train_primitive(model, num_epochs=10):\n",
        "\n",
        "    criterion = nn.CrossEntropyLoss()\n",
        "    optimizer = torch.optim.Adam(model.parameters(), lr=1e-3)\n",
        "\n",
        "    for epoch in range(num_epochs):\n",
        "        elements = 0\n",
        "        mean_loss = 0.0\n",
        "        acc_rate = 0.0\n",
        "        for X, y in train_loader:\n",
        "            X = X.to(device)\n",
        "            y = y.to(device)\n",
        "            \n",
        "            y_pred = model(X)\n",
        "            loss = criterion(y_pred, y)\n",
        "            \n",
        "            optimizer.zero_grad()\n",
        "            loss.backward()\n",
        "            optimizer.step()\n",
        "\n",
        "            mean_loss += loss.item() * len(X)\n",
        "            acc_rate += torch.sum(y == torch.max(y_pred, 1)[1])\n",
        "            elements += len(X)\n",
        "\n",
        "        total_loss = mean_loss / elements\n",
        "        total_acc = acc_rate / elements\n",
        "\n",
        "        print(f'epoch: {epoch + 1}, loss: {total_loss}, accuracy: {total_acc}')\n",
        "\n",
        "    return model"
      ],
      "execution_count": 0,
      "outputs": []
    },
    {
      "cell_type": "code",
      "metadata": {
        "id": "v86zCMfD-Lfm",
        "colab_type": "code",
        "outputId": "6fa83d33-6cb4-47ba-b673-5ce14c1f12fd",
        "colab": {
          "base_uri": "https://localhost:8080/",
          "height": 408
        }
      },
      "source": [
        "conv_nn = primitive()\n",
        "conv_nn.to(device)\n",
        "conv_nn = train_primitive(conv_nn, 15)\n",
        "\n",
        "conv_nn.eval()"
      ],
      "execution_count": 9,
      "outputs": [
        {
          "output_type": "stream",
          "text": [
            "epoch: 1, loss: 2.133591714134216, accuracy: 0.216279998421669\n",
            "epoch: 2, loss: 1.8475198878860473, accuracy: 0.3264999985694885\n",
            "epoch: 3, loss: 1.6952074464797973, accuracy: 0.384799987077713\n",
            "epoch: 4, loss: 1.6061191634368897, accuracy: 0.4139999747276306\n",
            "epoch: 5, loss: 1.5532233589935303, accuracy: 0.4333999752998352\n",
            "epoch: 6, loss: 1.5065511503219604, accuracy: 0.4536399841308594\n",
            "epoch: 7, loss: 1.4662624678421021, accuracy: 0.4694199860095978\n",
            "epoch: 8, loss: 1.434801008453369, accuracy: 0.48051998019218445\n",
            "epoch: 9, loss: 1.408804690322876, accuracy: 0.49049997329711914\n",
            "epoch: 10, loss: 1.3792069511795044, accuracy: 0.5031999945640564\n",
            "epoch: 11, loss: 1.3606824295043944, accuracy: 0.5090399980545044\n",
            "epoch: 12, loss: 1.335187605819702, accuracy: 0.5192800164222717\n",
            "epoch: 13, loss: 1.322454558944702, accuracy: 0.5252799987792969\n",
            "epoch: 14, loss: 1.301445667037964, accuracy: 0.5336999893188477\n",
            "epoch: 15, loss: 1.2847859977340699, accuracy: 0.5392799973487854\n"
          ],
          "name": "stdout"
        },
        {
          "output_type": "execute_result",
          "data": {
            "text/plain": [
              "primitive(\n",
              "  (conv1): Conv2d(3, 6, kernel_size=(5, 5), stride=(1, 1))\n",
              "  (pool): MaxPool2d(kernel_size=2, stride=2, padding=0, dilation=1, ceil_mode=False)\n",
              "  (conv2): Conv2d(6, 16, kernel_size=(5, 5), stride=(1, 1))\n",
              "  (fc1): Linear(in_features=400, out_features=120, bias=True)\n",
              "  (fc2): Linear(in_features=120, out_features=84, bias=True)\n",
              "  (fc3): Linear(in_features=84, out_features=10, bias=True)\n",
              ")"
            ]
          },
          "metadata": {
            "tags": []
          },
          "execution_count": 9
        }
      ]
    },
    {
      "cell_type": "code",
      "metadata": {
        "id": "Tc2Zr6tt-NQu",
        "colab_type": "code",
        "outputId": "f8c0ea19-0c98-4a0a-949a-76bc09100354",
        "colab": {
          "base_uri": "https://localhost:8080/",
          "height": 34
        }
      },
      "source": [
        "res_primitive = test(conv_nn)\n",
        "\n",
        "print(res_primitive)"
      ],
      "execution_count": 10,
      "outputs": [
        {
          "output_type": "stream",
          "text": [
            "0.5255\n"
          ],
          "name": "stdout"
        }
      ]
    },
    {
      "cell_type": "code",
      "metadata": {
        "id": "mWbVIoSWGqgz",
        "colab_type": "code",
        "colab": {}
      },
      "source": [
        "def train_primitive_with_smart(model, smart, a=0.5, num_epochs=10):\n",
        "\n",
        "    ce = nn.CrossEntropyLoss()\n",
        "    optimizer = torch.optim.Adam(model.parameters(), lr=1e-3)\n",
        "    mse = torch.nn.MSELoss()\n",
        "\n",
        "    for epoch in range(num_epochs):\n",
        "        elements = 0\n",
        "        mean_loss = 0.0\n",
        "        acc_rate = 0.0\n",
        "        for X, y in train_loader:\n",
        "            X = X.to(device)\n",
        "            y = y.to(device)\n",
        "\n",
        "            \n",
        "            y_pred = model(X)\n",
        "            smart_y_pred = smart(X)\n",
        "            loss = a * ce(y_pred, y) + (1 - a) * mse(F.softmax(y_pred, dim=-1), F.softmax(smart_y_pred, dim=-1))\n",
        "            #loss = a * ce(y_pred, y) + (1 - a) * mse(y_pred, smart_y_pred)\n",
        "            \n",
        "            optimizer.zero_grad()\n",
        "            loss.backward()\n",
        "            optimizer.step()\n",
        "\n",
        "            mean_loss += loss.item() * len(X)\n",
        "            acc_rate += torch.sum(y == torch.max(y_pred, 1)[1])\n",
        "            elements += len(X)\n",
        "\n",
        "        total_loss = mean_loss / elements\n",
        "        total_acc = acc_rate / elements\n",
        "\n",
        "        print(f'epoch: {epoch + 1}, loss: {total_loss}, accuracy: {total_acc}')\n",
        "\n",
        "    return model"
      ],
      "execution_count": 0,
      "outputs": []
    },
    {
      "cell_type": "code",
      "metadata": {
        "id": "H3sILA33-QY-",
        "colab_type": "code",
        "outputId": "6f521ee4-c327-47fc-b74d-49a6b266264b",
        "colab": {
          "base_uri": "https://localhost:8080/",
          "height": 408
        }
      },
      "source": [
        "conv_nn = primitive()\n",
        "conv_nn.to(device)\n",
        "conv_nn = train_primitive_with_smart(conv_nn, smart, 0.0, 15)\n",
        "\n",
        "conv_nn.eval()"
      ],
      "execution_count": 15,
      "outputs": [
        {
          "output_type": "stream",
          "text": [
            "epoch: 1, loss: 0.08191188997745513, accuracy: 0.2261199951171875\n",
            "epoch: 2, loss: 0.07488856539249421, accuracy: 0.33434000611305237\n",
            "epoch: 3, loss: 0.07078102601528168, accuracy: 0.3835799992084503\n",
            "epoch: 4, loss: 0.06731973183393479, accuracy: 0.4240399897098541\n",
            "epoch: 5, loss: 0.06465226093292237, accuracy: 0.4523800015449524\n",
            "epoch: 6, loss: 0.06226334257364273, accuracy: 0.4759399890899658\n",
            "epoch: 7, loss: 0.06053111493706703, accuracy: 0.49526000022888184\n",
            "epoch: 8, loss: 0.058949327641725544, accuracy: 0.5108399987220764\n",
            "epoch: 9, loss: 0.05740443249940872, accuracy: 0.5263400077819824\n",
            "epoch: 10, loss: 0.05604466941356659, accuracy: 0.5390399694442749\n",
            "epoch: 11, loss: 0.05485662794947624, accuracy: 0.5509399771690369\n",
            "epoch: 12, loss: 0.05357265322566032, accuracy: 0.5619800090789795\n",
            "epoch: 13, loss: 0.05279749336719513, accuracy: 0.5712199807167053\n",
            "epoch: 14, loss: 0.05168342544794083, accuracy: 0.5812999606132507\n",
            "epoch: 15, loss: 0.05097236837506294, accuracy: 0.5870400071144104\n"
          ],
          "name": "stdout"
        },
        {
          "output_type": "execute_result",
          "data": {
            "text/plain": [
              "primitive(\n",
              "  (conv1): Conv2d(3, 6, kernel_size=(5, 5), stride=(1, 1))\n",
              "  (pool): MaxPool2d(kernel_size=2, stride=2, padding=0, dilation=1, ceil_mode=False)\n",
              "  (conv2): Conv2d(6, 16, kernel_size=(5, 5), stride=(1, 1))\n",
              "  (fc1): Linear(in_features=400, out_features=120, bias=True)\n",
              "  (fc2): Linear(in_features=120, out_features=84, bias=True)\n",
              "  (fc3): Linear(in_features=84, out_features=10, bias=True)\n",
              ")"
            ]
          },
          "metadata": {
            "tags": []
          },
          "execution_count": 15
        }
      ]
    },
    {
      "cell_type": "code",
      "metadata": {
        "id": "jWFSytwT-R8u",
        "colab_type": "code",
        "outputId": "69f39631-feb8-4c27-decc-8a4ef3f97fed",
        "colab": {
          "base_uri": "https://localhost:8080/",
          "height": 34
        }
      },
      "source": [
        "res_primitive_with_smart = test(conv_nn)\n",
        "\n",
        "print(res_primitive_with_smart)"
      ],
      "execution_count": 16,
      "outputs": [
        {
          "output_type": "stream",
          "text": [
            "0.5637\n"
          ],
          "name": "stdout"
        }
      ]
    },
    {
      "cell_type": "code",
      "metadata": {
        "id": "a6mPUruy-UrO",
        "colab_type": "code",
        "outputId": "ba4f8b87-68b8-45a9-8ab7-33bf382a74fd",
        "colab": {
          "base_uri": "https://localhost:8080/",
          "height": 68
        }
      },
      "source": [
        "print(f\"smart accuracy: {res_smart}\")\n",
        "print(f\"primitive accruracy: {res_primitive}\")\n",
        "print(f\"primitive with smart accuracy: {res_primitive_with_smart}\")"
      ],
      "execution_count": 17,
      "outputs": [
        {
          "output_type": "stream",
          "text": [
            "smart accuracy: 0.7598\n",
            "primitive accruracy: 0.5255\n",
            "primitive with smart accuracy: 0.5637\n"
          ],
          "name": "stdout"
        }
      ]
    },
    {
      "cell_type": "markdown",
      "metadata": {
        "id": "57ulheWKlNpP",
        "colab_type": "text"
      },
      "source": [
        "Итого: resnet помог нашей слабой архитектуре повысить своё качество на почти 0.03 accuracy, сохранив то же самое количество эпох при обучении и с тем же самым оптимайзером."
      ]
    }
  ]
}