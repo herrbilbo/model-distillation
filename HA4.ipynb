{
  "nbformat": 4,
  "nbformat_minor": 0,
  "metadata": {
    "colab": {
      "name": "HA4.ipynb",
      "provenance": [],
      "collapsed_sections": []
    },
    "kernelspec": {
      "name": "python3",
      "display_name": "Python 3"
    },
    "accelerator": "GPU"
  },
  "cells": [
    {
      "cell_type": "code",
      "metadata": {
        "id": "tpA_Kgyn9EO2",
        "colab_type": "code",
        "colab": {}
      },
      "source": [
        "import cv2\n",
        "import matplotlib.pylab as plt\n",
        "import numpy as np\n",
        "import random\n",
        "import math\n",
        "import pandas as pd\n",
        "import glob\n",
        "\n",
        "import torchvision\n",
        "import torchvision.transforms as transforms\n",
        "\n",
        "%matplotlib inline\n",
        "plt.style.use('default')\n",
        "\n",
        "import warnings\n",
        "warnings.filterwarnings('ignore')\n",
        "\n",
        "from torch.utils.data import Dataset\n",
        "from torchvision import datasets, transforms\n",
        "from torch.utils.data import DataLoader\n",
        "import torch\n",
        "from tqdm import tqdm\n",
        "from torch import nn\n",
        "import torch.nn.functional as F\n",
        "\n",
        "from sklearn.metrics import accuracy_score\n",
        "from sklearn.model_selection import train_test_split\n",
        "\n",
        "import plotly.graph_objects as go\n",
        "from plotly.subplots import make_subplots\n",
        "\n",
        "import plotly.offline"
      ],
      "execution_count": 0,
      "outputs": []
    },
    {
      "cell_type": "markdown",
      "metadata": {
        "id": "mE1_5zLVkEBe",
        "colab_type": "text"
      },
      "source": [
        "https://habr.com/ru/company/avito/blog/485290/"
      ]
    },
    {
      "cell_type": "code",
      "metadata": {
        "id": "Htsb0WhBML74",
        "colab_type": "code",
        "colab": {
          "base_uri": "https://localhost:8080/",
          "height": 51
        },
        "outputId": "2a052745-0f93-4f9c-c0b1-9869effc8305"
      },
      "source": [
        "seed = 228\n",
        "np.random.seed(seed)\n",
        "torch.manual_seed(seed)\n",
        "random.seed(seed)\n",
        "\n",
        "transform = transforms.Compose(\n",
        "    [transforms.ToTensor(),\n",
        "     transforms.Normalize([0.485, 0.456, 0.406], [0.229, 0.224, 0.225])])\n",
        "\n",
        "train_set = torchvision.datasets.CIFAR10(root='./data', train=True,\n",
        "                                        download=True, transform=transform)\n",
        "train_loader = torch.utils.data.DataLoader(train_set, batch_size=2048,\n",
        "                                          shuffle=True, num_workers=2)\n",
        "\n",
        "test_set = torchvision.datasets.CIFAR10(root='./data', train=False,\n",
        "                                       download=True, transform=transform)\n",
        "test_loader = torch.utils.data.DataLoader(test_set, batch_size=2048,\n",
        "                                         shuffle=False, num_workers=2)\n",
        "\n",
        "device = torch.device(\"cuda\" if torch.cuda.is_available() else \"cpu\")"
      ],
      "execution_count": 2,
      "outputs": [
        {
          "output_type": "stream",
          "text": [
            "Files already downloaded and verified\n",
            "Files already downloaded and verified\n"
          ],
          "name": "stdout"
        }
      ]
    },
    {
      "cell_type": "code",
      "metadata": {
        "id": "z7QzyuD298Z8",
        "colab_type": "code",
        "colab": {}
      },
      "source": [
        "def train_smart(model, num_epochs=10):\n",
        "\n",
        "    # params_to_update = []\n",
        "    # for name, param in model.named_parameters():\n",
        "    #     if param.requires_grad == True:\n",
        "    #         params_to_update.append(param)\n",
        "    #         print(\"\\t\",name)\n",
        "\n",
        "    criterion = nn.CrossEntropyLoss()\n",
        "    optimizer = torch.optim.Adam(model.parameters(), lr=1e-4)\n",
        "    #optimizer = torch.optim.Adam(params_to_update, lr=1e-4)\n",
        "\n",
        "    for epoch in range(num_epochs):\n",
        "        elements = 0\n",
        "        mean_loss = 0.0\n",
        "        acc_rate = 0.0\n",
        "        for X, y in train_loader:\n",
        "            X = X.to(device)\n",
        "            y = y.to(device)\n",
        "            \n",
        "            y_pred = model(X)\n",
        "            loss = criterion(y_pred, y)\n",
        "\n",
        "            optimizer.zero_grad()\n",
        "            loss.backward()\n",
        "            optimizer.step()\n",
        "\n",
        "            mean_loss += loss.item() * len(X)\n",
        "            acc_rate += torch.sum(y == torch.max(y_pred, 1)[1])\n",
        "            elements += len(X)\n",
        "\n",
        "        total_loss = mean_loss / elements\n",
        "        total_acc = acc_rate / elements\n",
        "\n",
        "        print(f'epoch: {epoch + 1}, loss: {total_loss}, accuracy: {total_acc}')\n",
        "        torch.save(model.state_dict(), 'smart')\n",
        "\n",
        "    return model"
      ],
      "execution_count": 0,
      "outputs": []
    },
    {
      "cell_type": "code",
      "metadata": {
        "id": "JBAgIJ3_9_U_",
        "colab_type": "code",
        "colab": {
          "base_uri": "https://localhost:8080/",
          "height": 1000
        },
        "outputId": "3a5da300-7b03-4ca5-a97d-6a5388fd3296"
      },
      "source": [
        "smart = torchvision.models.resnet18(pretrained=True)\n",
        "\n",
        "# def set_parameter_requires_grad(model):\n",
        "#     for param in model.parameters():\n",
        "#         param.requires_grad = False\n",
        "\n",
        "# set_parameter_requires_grad(smart)\n",
        "\n",
        "smart.fc = nn.Linear(smart.fc.in_features, 10)\n",
        "smart = smart.to(device)\n",
        "\n",
        "smart = train_smart(smart, num_epochs=10)\n",
        "\n",
        "smart.load_state_dict(torch.load(\"smart\"))\n",
        "smart.eval()"
      ],
      "execution_count": 4,
      "outputs": [
        {
          "output_type": "stream",
          "text": [
            "epoch: 1, loss: 1.7121914697647094, accuracy: 0.409060001373291\n",
            "epoch: 2, loss: 0.9376758997154235, accuracy: 0.6757999658584595\n",
            "epoch: 3, loss: 0.6782147241783142, accuracy: 0.7659800052642822\n",
            "epoch: 4, loss: 0.5154062458610534, accuracy: 0.8246999979019165\n",
            "epoch: 5, loss: 0.3835704894733429, accuracy: 0.8769999742507935\n",
            "epoch: 6, loss: 0.27326295523643496, accuracy: 0.9203799962997437\n",
            "epoch: 7, loss: 0.18327909275054932, accuracy: 0.954479992389679\n",
            "epoch: 8, loss: 0.11672815702915192, accuracy: 0.9774599671363831\n",
            "epoch: 9, loss: 0.06980964313268662, accuracy: 0.9894399642944336\n",
            "epoch: 10, loss: 0.04258720884084702, accuracy: 0.9951399564743042\n"
          ],
          "name": "stdout"
        },
        {
          "output_type": "execute_result",
          "data": {
            "text/plain": [
              "ResNet(\n",
              "  (conv1): Conv2d(3, 64, kernel_size=(7, 7), stride=(2, 2), padding=(3, 3), bias=False)\n",
              "  (bn1): BatchNorm2d(64, eps=1e-05, momentum=0.1, affine=True, track_running_stats=True)\n",
              "  (relu): ReLU(inplace=True)\n",
              "  (maxpool): MaxPool2d(kernel_size=3, stride=2, padding=1, dilation=1, ceil_mode=False)\n",
              "  (layer1): Sequential(\n",
              "    (0): BasicBlock(\n",
              "      (conv1): Conv2d(64, 64, kernel_size=(3, 3), stride=(1, 1), padding=(1, 1), bias=False)\n",
              "      (bn1): BatchNorm2d(64, eps=1e-05, momentum=0.1, affine=True, track_running_stats=True)\n",
              "      (relu): ReLU(inplace=True)\n",
              "      (conv2): Conv2d(64, 64, kernel_size=(3, 3), stride=(1, 1), padding=(1, 1), bias=False)\n",
              "      (bn2): BatchNorm2d(64, eps=1e-05, momentum=0.1, affine=True, track_running_stats=True)\n",
              "    )\n",
              "    (1): BasicBlock(\n",
              "      (conv1): Conv2d(64, 64, kernel_size=(3, 3), stride=(1, 1), padding=(1, 1), bias=False)\n",
              "      (bn1): BatchNorm2d(64, eps=1e-05, momentum=0.1, affine=True, track_running_stats=True)\n",
              "      (relu): ReLU(inplace=True)\n",
              "      (conv2): Conv2d(64, 64, kernel_size=(3, 3), stride=(1, 1), padding=(1, 1), bias=False)\n",
              "      (bn2): BatchNorm2d(64, eps=1e-05, momentum=0.1, affine=True, track_running_stats=True)\n",
              "    )\n",
              "  )\n",
              "  (layer2): Sequential(\n",
              "    (0): BasicBlock(\n",
              "      (conv1): Conv2d(64, 128, kernel_size=(3, 3), stride=(2, 2), padding=(1, 1), bias=False)\n",
              "      (bn1): BatchNorm2d(128, eps=1e-05, momentum=0.1, affine=True, track_running_stats=True)\n",
              "      (relu): ReLU(inplace=True)\n",
              "      (conv2): Conv2d(128, 128, kernel_size=(3, 3), stride=(1, 1), padding=(1, 1), bias=False)\n",
              "      (bn2): BatchNorm2d(128, eps=1e-05, momentum=0.1, affine=True, track_running_stats=True)\n",
              "      (downsample): Sequential(\n",
              "        (0): Conv2d(64, 128, kernel_size=(1, 1), stride=(2, 2), bias=False)\n",
              "        (1): BatchNorm2d(128, eps=1e-05, momentum=0.1, affine=True, track_running_stats=True)\n",
              "      )\n",
              "    )\n",
              "    (1): BasicBlock(\n",
              "      (conv1): Conv2d(128, 128, kernel_size=(3, 3), stride=(1, 1), padding=(1, 1), bias=False)\n",
              "      (bn1): BatchNorm2d(128, eps=1e-05, momentum=0.1, affine=True, track_running_stats=True)\n",
              "      (relu): ReLU(inplace=True)\n",
              "      (conv2): Conv2d(128, 128, kernel_size=(3, 3), stride=(1, 1), padding=(1, 1), bias=False)\n",
              "      (bn2): BatchNorm2d(128, eps=1e-05, momentum=0.1, affine=True, track_running_stats=True)\n",
              "    )\n",
              "  )\n",
              "  (layer3): Sequential(\n",
              "    (0): BasicBlock(\n",
              "      (conv1): Conv2d(128, 256, kernel_size=(3, 3), stride=(2, 2), padding=(1, 1), bias=False)\n",
              "      (bn1): BatchNorm2d(256, eps=1e-05, momentum=0.1, affine=True, track_running_stats=True)\n",
              "      (relu): ReLU(inplace=True)\n",
              "      (conv2): Conv2d(256, 256, kernel_size=(3, 3), stride=(1, 1), padding=(1, 1), bias=False)\n",
              "      (bn2): BatchNorm2d(256, eps=1e-05, momentum=0.1, affine=True, track_running_stats=True)\n",
              "      (downsample): Sequential(\n",
              "        (0): Conv2d(128, 256, kernel_size=(1, 1), stride=(2, 2), bias=False)\n",
              "        (1): BatchNorm2d(256, eps=1e-05, momentum=0.1, affine=True, track_running_stats=True)\n",
              "      )\n",
              "    )\n",
              "    (1): BasicBlock(\n",
              "      (conv1): Conv2d(256, 256, kernel_size=(3, 3), stride=(1, 1), padding=(1, 1), bias=False)\n",
              "      (bn1): BatchNorm2d(256, eps=1e-05, momentum=0.1, affine=True, track_running_stats=True)\n",
              "      (relu): ReLU(inplace=True)\n",
              "      (conv2): Conv2d(256, 256, kernel_size=(3, 3), stride=(1, 1), padding=(1, 1), bias=False)\n",
              "      (bn2): BatchNorm2d(256, eps=1e-05, momentum=0.1, affine=True, track_running_stats=True)\n",
              "    )\n",
              "  )\n",
              "  (layer4): Sequential(\n",
              "    (0): BasicBlock(\n",
              "      (conv1): Conv2d(256, 512, kernel_size=(3, 3), stride=(2, 2), padding=(1, 1), bias=False)\n",
              "      (bn1): BatchNorm2d(512, eps=1e-05, momentum=0.1, affine=True, track_running_stats=True)\n",
              "      (relu): ReLU(inplace=True)\n",
              "      (conv2): Conv2d(512, 512, kernel_size=(3, 3), stride=(1, 1), padding=(1, 1), bias=False)\n",
              "      (bn2): BatchNorm2d(512, eps=1e-05, momentum=0.1, affine=True, track_running_stats=True)\n",
              "      (downsample): Sequential(\n",
              "        (0): Conv2d(256, 512, kernel_size=(1, 1), stride=(2, 2), bias=False)\n",
              "        (1): BatchNorm2d(512, eps=1e-05, momentum=0.1, affine=True, track_running_stats=True)\n",
              "      )\n",
              "    )\n",
              "    (1): BasicBlock(\n",
              "      (conv1): Conv2d(512, 512, kernel_size=(3, 3), stride=(1, 1), padding=(1, 1), bias=False)\n",
              "      (bn1): BatchNorm2d(512, eps=1e-05, momentum=0.1, affine=True, track_running_stats=True)\n",
              "      (relu): ReLU(inplace=True)\n",
              "      (conv2): Conv2d(512, 512, kernel_size=(3, 3), stride=(1, 1), padding=(1, 1), bias=False)\n",
              "      (bn2): BatchNorm2d(512, eps=1e-05, momentum=0.1, affine=True, track_running_stats=True)\n",
              "    )\n",
              "  )\n",
              "  (avgpool): AdaptiveAvgPool2d(output_size=(1, 1))\n",
              "  (fc): Linear(in_features=512, out_features=10, bias=True)\n",
              ")"
            ]
          },
          "metadata": {
            "tags": []
          },
          "execution_count": 4
        }
      ]
    },
    {
      "cell_type": "code",
      "metadata": {
        "id": "cv7nP6x0-EE2",
        "colab_type": "code",
        "colab": {}
      },
      "source": [
        "def test(model):\n",
        "    y_pred = np.array([])\n",
        "    y_true = np.array([])\n",
        "\n",
        "    for batch in test_loader:\n",
        "        X, y = batch\n",
        "        X = X.to(device)\n",
        "        y = y.to(device)\n",
        "\n",
        "        output = model(X)\n",
        "        \n",
        "        batch_pred = torch.argmax(output, dim=1)\n",
        "        y_pred = np.append(y_pred, batch_pred.cpu().numpy())\n",
        "        y_true = np.append(y_true, y.cpu().numpy())\n",
        "\n",
        "    y_pred = y_pred.astype(int)\n",
        "\n",
        "    acc = accuracy_score(y_pred, y_true)\n",
        "\n",
        "    return acc"
      ],
      "execution_count": 0,
      "outputs": []
    },
    {
      "cell_type": "code",
      "metadata": {
        "id": "1PDNRfv--GmU",
        "colab_type": "code",
        "colab": {
          "base_uri": "https://localhost:8080/",
          "height": 34
        },
        "outputId": "55574e76-cc3d-4008-ad10-f23a5414ed90"
      },
      "source": [
        "res_smart = test(smart)\n",
        "\n",
        "print(res_smart)"
      ],
      "execution_count": 6,
      "outputs": [
        {
          "output_type": "stream",
          "text": [
            "0.7613\n"
          ],
          "name": "stdout"
        }
      ]
    },
    {
      "cell_type": "code",
      "metadata": {
        "id": "MkhswJnv-H7-",
        "colab_type": "code",
        "colab": {}
      },
      "source": [
        "class primitive(nn.Module):\n",
        "    def __init__(self):\n",
        "        super(primitive, self).__init__()\n",
        "        self.conv1 = nn.Conv2d(3, 6, 5)\n",
        "        self.pool = nn.MaxPool2d(2, 2)\n",
        "        self.conv2 = nn.Conv2d(6, 16, 5)\n",
        "        self.fc1 = nn.Linear(16 * 5 * 5, 120)\n",
        "        self.fc2 = nn.Linear(120, 84)\n",
        "        self.fc3 = nn.Linear(84, 10)\n",
        "\n",
        "    def forward(self, x):\n",
        "        x = self.pool(F.relu(self.conv1(x)))\n",
        "        x = self.pool(F.relu(self.conv2(x)))\n",
        "        x = x.view(-1, 16 * 5 * 5)\n",
        "        x = F.relu(self.fc1(x))\n",
        "        x = F.relu(self.fc2(x))\n",
        "        x = self.fc3(x)\n",
        "        return x\n"
      ],
      "execution_count": 0,
      "outputs": []
    },
    {
      "cell_type": "code",
      "metadata": {
        "id": "P1g30axb-JLW",
        "colab_type": "code",
        "colab": {}
      },
      "source": [
        "def train_primitive(model, num_epochs=10):\n",
        "\n",
        "    criterion = nn.CrossEntropyLoss()\n",
        "    optimizer = torch.optim.Adam(model.parameters(), lr=1e-3)\n",
        "\n",
        "    for epoch in range(num_epochs):\n",
        "        elements = 0\n",
        "        mean_loss = 0.0\n",
        "        acc_rate = 0.0\n",
        "        for X, y in train_loader:\n",
        "            X = X.to(device)\n",
        "            y = y.to(device)\n",
        "            \n",
        "            y_pred = model(X)\n",
        "            loss = criterion(y_pred, y)\n",
        "            \n",
        "            optimizer.zero_grad()\n",
        "            loss.backward()\n",
        "            optimizer.step()\n",
        "\n",
        "            mean_loss += loss.item() * len(X)\n",
        "            acc_rate += torch.sum(y == torch.max(y_pred, 1)[1])\n",
        "            elements += len(X)\n",
        "\n",
        "        total_loss = mean_loss / elements\n",
        "        total_acc = acc_rate / elements\n",
        "\n",
        "        print(f'epoch: {epoch + 1}, loss: {total_loss}, accuracy: {total_acc}')\n",
        "\n",
        "    return model"
      ],
      "execution_count": 0,
      "outputs": []
    },
    {
      "cell_type": "code",
      "metadata": {
        "id": "v86zCMfD-Lfm",
        "colab_type": "code",
        "colab": {
          "base_uri": "https://localhost:8080/",
          "height": 493
        },
        "outputId": "41682023-8697-4755-d40a-a8d7ef6bc1ce"
      },
      "source": [
        "conv_nn = primitive()\n",
        "conv_nn.to(device)\n",
        "conv_nn = train_primitive(conv_nn, 20)\n",
        "\n",
        "conv_nn.eval()"
      ],
      "execution_count": 9,
      "outputs": [
        {
          "output_type": "stream",
          "text": [
            "epoch: 1, loss: 2.1335972854614256, accuracy: 0.21639999747276306\n",
            "epoch: 2, loss: 1.847334750289917, accuracy: 0.32651999592781067\n",
            "epoch: 3, loss: 1.6951861625289917, accuracy: 0.3847399950027466\n",
            "epoch: 4, loss: 1.6065867197036743, accuracy: 0.4134199917316437\n",
            "epoch: 5, loss: 1.552321163711548, accuracy: 0.43347999453544617\n",
            "epoch: 6, loss: 1.5062294190216063, accuracy: 0.45399999618530273\n",
            "epoch: 7, loss: 1.4655480351638794, accuracy: 0.47005999088287354\n",
            "epoch: 8, loss: 1.4343947258377074, accuracy: 0.4810599982738495\n",
            "epoch: 9, loss: 1.4085931601333619, accuracy: 0.48993998765945435\n",
            "epoch: 10, loss: 1.3787116205596923, accuracy: 0.5030800104141235\n",
            "epoch: 11, loss: 1.3600501608657838, accuracy: 0.5091999769210815\n",
            "epoch: 12, loss: 1.3341531991195679, accuracy: 0.5194000005722046\n",
            "epoch: 13, loss: 1.3219798076629639, accuracy: 0.525119960308075\n",
            "epoch: 14, loss: 1.3002315266799926, accuracy: 0.5342599749565125\n",
            "epoch: 15, loss: 1.2838537795257567, accuracy: 0.5397199988365173\n",
            "epoch: 16, loss: 1.2660004571914674, accuracy: 0.5464400053024292\n",
            "epoch: 17, loss: 1.2553581449890137, accuracy: 0.553059995174408\n",
            "epoch: 18, loss: 1.2380461904907227, accuracy: 0.5561400055885315\n",
            "epoch: 19, loss: 1.2234994281768798, accuracy: 0.5636199712753296\n",
            "epoch: 20, loss: 1.2033985330963135, accuracy: 0.57041996717453\n"
          ],
          "name": "stdout"
        },
        {
          "output_type": "execute_result",
          "data": {
            "text/plain": [
              "primitive(\n",
              "  (conv1): Conv2d(3, 6, kernel_size=(5, 5), stride=(1, 1))\n",
              "  (pool): MaxPool2d(kernel_size=2, stride=2, padding=0, dilation=1, ceil_mode=False)\n",
              "  (conv2): Conv2d(6, 16, kernel_size=(5, 5), stride=(1, 1))\n",
              "  (fc1): Linear(in_features=400, out_features=120, bias=True)\n",
              "  (fc2): Linear(in_features=120, out_features=84, bias=True)\n",
              "  (fc3): Linear(in_features=84, out_features=10, bias=True)\n",
              ")"
            ]
          },
          "metadata": {
            "tags": []
          },
          "execution_count": 9
        }
      ]
    },
    {
      "cell_type": "code",
      "metadata": {
        "id": "Tc2Zr6tt-NQu",
        "colab_type": "code",
        "colab": {
          "base_uri": "https://localhost:8080/",
          "height": 34
        },
        "outputId": "44ce2822-bffb-4e65-954b-c1e2033d618d"
      },
      "source": [
        "res_primitive = test(conv_nn)\n",
        "\n",
        "print(res_primitive)"
      ],
      "execution_count": 10,
      "outputs": [
        {
          "output_type": "stream",
          "text": [
            "0.5486\n"
          ],
          "name": "stdout"
        }
      ]
    },
    {
      "cell_type": "code",
      "metadata": {
        "id": "mWbVIoSWGqgz",
        "colab_type": "code",
        "colab": {}
      },
      "source": [
        "def train_primitive_with_smart(model, smart, a=0.5, num_epochs=10):\n",
        "\n",
        "    ce = nn.CrossEntropyLoss()\n",
        "    optimizer = torch.optim.Adam(model.parameters(), lr=1e-2)\n",
        "    mse = torch.nn.MSELoss()\n",
        "\n",
        "    for epoch in range(num_epochs):\n",
        "        elements = 0\n",
        "        mean_loss = 0.0\n",
        "        acc_rate = 0.0\n",
        "        for X, y in train_loader:\n",
        "            X = X.to(device)\n",
        "            y = y.to(device)\n",
        "\n",
        "            \n",
        "            y_pred = model(X)\n",
        "            smart_y_pred = smart(X)\n",
        "            loss = a * ce(y_pred, y) + (1 - a) * mse(F.softmax(y_pred, dim=-1), F.softmax(smart_y_pred, dim=-1))\n",
        "            #loss = a * ce(y_pred, y) + (1 - a) * mse(y_pred, smart_y_pred)\n",
        "            \n",
        "            optimizer.zero_grad()\n",
        "            loss.backward()\n",
        "            optimizer.step()\n",
        "\n",
        "            mean_loss += loss.item() * len(X)\n",
        "            acc_rate += torch.sum(y == torch.max(y_pred, 1)[1])\n",
        "            elements += len(X)\n",
        "\n",
        "        total_loss = mean_loss / elements\n",
        "        total_acc = acc_rate / elements\n",
        "\n",
        "        print(f'epoch: {epoch + 1}, loss: {total_loss}, accuracy: {total_acc}')\n",
        "\n",
        "    return model"
      ],
      "execution_count": 0,
      "outputs": []
    },
    {
      "cell_type": "code",
      "metadata": {
        "id": "H3sILA33-QY-",
        "colab_type": "code",
        "colab": {
          "base_uri": "https://localhost:8080/",
          "height": 493
        },
        "outputId": "1dead657-ca0d-48b2-e5c9-671e89211995"
      },
      "source": [
        "conv_nn = primitive()\n",
        "conv_nn.to(device)\n",
        "conv_nn = train_primitive_with_smart(conv_nn, smart, 0.2, 20)\n",
        "\n",
        "conv_nn.eval()"
      ],
      "execution_count": 12,
      "outputs": [
        {
          "output_type": "stream",
          "text": [
            "epoch: 1, loss: 0.4748212748336792, accuracy: 0.23517999053001404\n",
            "epoch: 2, loss: 0.3847342297649384, accuracy: 0.3861599862575531\n",
            "epoch: 3, loss: 0.3518998817253113, accuracy: 0.44933998584747314\n",
            "epoch: 4, loss: 0.3247924182319641, accuracy: 0.49347999691963196\n",
            "epoch: 5, loss: 0.3095993337059021, accuracy: 0.5216000080108643\n",
            "epoch: 6, loss: 0.29652205717086794, accuracy: 0.5465399622917175\n",
            "epoch: 7, loss: 0.2868335312271118, accuracy: 0.5622000098228455\n",
            "epoch: 8, loss: 0.27418550459861757, accuracy: 0.5842800140380859\n",
            "epoch: 9, loss: 0.26591174990653993, accuracy: 0.5974400043487549\n",
            "epoch: 10, loss: 0.2585857437038422, accuracy: 0.6093199849128723\n",
            "epoch: 11, loss: 0.25197030241966245, accuracy: 0.6212199926376343\n",
            "epoch: 12, loss: 0.2472033537197113, accuracy: 0.6302399635314941\n",
            "epoch: 13, loss: 0.2398144023990631, accuracy: 0.6400200128555298\n",
            "epoch: 14, loss: 0.2348843421792984, accuracy: 0.6468799710273743\n",
            "epoch: 15, loss: 0.2298835883140564, accuracy: 0.6570199728012085\n",
            "epoch: 16, loss: 0.22577218484401704, accuracy: 0.661899983882904\n",
            "epoch: 17, loss: 0.22561593488693238, accuracy: 0.6620999574661255\n",
            "epoch: 18, loss: 0.21834798056602478, accuracy: 0.6731199622154236\n",
            "epoch: 19, loss: 0.2149789078950882, accuracy: 0.6796000003814697\n",
            "epoch: 20, loss: 0.21676459536075593, accuracy: 0.6758599877357483\n"
          ],
          "name": "stdout"
        },
        {
          "output_type": "execute_result",
          "data": {
            "text/plain": [
              "primitive(\n",
              "  (conv1): Conv2d(3, 6, kernel_size=(5, 5), stride=(1, 1))\n",
              "  (pool): MaxPool2d(kernel_size=2, stride=2, padding=0, dilation=1, ceil_mode=False)\n",
              "  (conv2): Conv2d(6, 16, kernel_size=(5, 5), stride=(1, 1))\n",
              "  (fc1): Linear(in_features=400, out_features=120, bias=True)\n",
              "  (fc2): Linear(in_features=120, out_features=84, bias=True)\n",
              "  (fc3): Linear(in_features=84, out_features=10, bias=True)\n",
              ")"
            ]
          },
          "metadata": {
            "tags": []
          },
          "execution_count": 12
        }
      ]
    },
    {
      "cell_type": "code",
      "metadata": {
        "id": "jWFSytwT-R8u",
        "colab_type": "code",
        "colab": {
          "base_uri": "https://localhost:8080/",
          "height": 34
        },
        "outputId": "366ea47f-3931-409a-891c-fc484cbc5251"
      },
      "source": [
        "res_primitive_with_smart = test(conv_nn)\n",
        "\n",
        "print(res_primitive_with_smart)"
      ],
      "execution_count": 13,
      "outputs": [
        {
          "output_type": "stream",
          "text": [
            "0.6178\n"
          ],
          "name": "stdout"
        }
      ]
    },
    {
      "cell_type": "code",
      "metadata": {
        "id": "a6mPUruy-UrO",
        "colab_type": "code",
        "colab": {
          "base_uri": "https://localhost:8080/",
          "height": 68
        },
        "outputId": "821e3e4c-84f8-475a-9507-704444d656ac"
      },
      "source": [
        "print(f\"smart accuracy: {res_smart}\")\n",
        "print(f\"primitive accruracy: {res_primitive}\")\n",
        "print(f\"primitive with smart accuracy: {res_primitive_with_smart}\")"
      ],
      "execution_count": 14,
      "outputs": [
        {
          "output_type": "stream",
          "text": [
            "smart accuracy: 0.7613\n",
            "primitive accruracy: 0.5486\n",
            "primitive with smart accuracy: 0.6178\n"
          ],
          "name": "stdout"
        }
      ]
    }
  ]
}